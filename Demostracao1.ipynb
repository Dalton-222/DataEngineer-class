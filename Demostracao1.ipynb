{
  "nbformat": 4,
  "nbformat_minor": 0,
  "metadata": {
    "colab": {
      "provenance": [],
      "authorship_tag": "ABX9TyPKmiOX8QpxJcP+zV+61OXm",
      "include_colab_link": true
    },
    "kernelspec": {
      "name": "python3",
      "display_name": "Python 3"
    },
    "language_info": {
      "name": "python"
    }
  },
  "cells": [
    {
      "cell_type": "markdown",
      "metadata": {
        "id": "view-in-github",
        "colab_type": "text"
      },
      "source": [
        "<a href=\"https://colab.research.google.com/github/Dalton-222/DataEngineer-class/blob/main/Demostracao1.ipynb\" target=\"_parent\"><img src=\"https://colab.research.google.com/assets/colab-badge.svg\" alt=\"Open In Colab\"/></a>"
      ]
    },
    {
      "cell_type": "code",
      "execution_count": 2,
      "metadata": {
        "id": "1vjA-q-ojnje"
      },
      "outputs": [],
      "source": [
        "import csv;\n",
        "import sqlite3;\n",
        "\n",
        "#cria um novo banco de dados\n",
        "conn = sqlite3.connect('dsadb.db')\n",
        "\n",
        "#cria uma tabela para armazenar os dados de produção de alimentos\n",
        "conn.execute('''\n",
        "            CREATE TABLE IF NOT EXISTS producao(\n",
        "              produto TEXT,\n",
        "              quantidade INTEGER,\n",
        "              preco_medio REAL,\n",
        "              receita_total REAL\n",
        "            )\n",
        "''')\n",
        "#Grava e fecha a conexão\n",
        "conn.commit()\n",
        "conn.close()"
      ]
    },
    {
      "cell_type": "code",
      "source": [
        "#Abre o arquivo CSV com os dados de producao de alimentos\n",
        "with open('producao_alimentos.csv', 'r') as file:\n",
        "  #cria um leitor de csv para ler o arquivo\n",
        "  reader = csv.reader(file)\n",
        "\n",
        "  #pula a primeira linha, que contem os cabeçalhos e colunas\n",
        "  next(reader)\n",
        "\n",
        "  #conecta ao banco de dados\n",
        "  conn = sqlite3.connect('dsadb.db')\n",
        "\n",
        "  #Insere cada linha do arquivo na tabela do banco de dados\n",
        "  for row in reader:\n",
        "    conn.execute('INSERT INTO producao(produto, quantidade, preco_medio, receita_total) VALUES (?, ?, ?, ?)', row)\n",
        "\n",
        "  conn.commit()\n",
        "  conn.close()\n",
        "\n",
        "print(\"Job Concluido com sucesso!\")"
      ],
      "metadata": {
        "colab": {
          "base_uri": "https://localhost:8080/"
        },
        "id": "AKqikq6YoRWa",
        "outputId": "89b1cbc6-1893-4159-c93a-25fc2de097b6"
      },
      "execution_count": 3,
      "outputs": [
        {
          "output_type": "stream",
          "name": "stdout",
          "text": [
            "Job Concluido com sucesso!\n"
          ]
        }
      ]
    }
  ]
}