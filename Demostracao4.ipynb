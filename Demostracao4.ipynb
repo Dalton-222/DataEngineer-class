{
  "nbformat": 4,
  "nbformat_minor": 0,
  "metadata": {
    "colab": {
      "provenance": [],
      "authorship_tag": "ABX9TyNYlb2ltKItmq5tbCiiGJo1",
      "include_colab_link": true
    },
    "kernelspec": {
      "name": "python3",
      "display_name": "Python 3"
    },
    "language_info": {
      "name": "python"
    }
  },
  "cells": [
    {
      "cell_type": "markdown",
      "metadata": {
        "id": "view-in-github",
        "colab_type": "text"
      },
      "source": [
        "<a href=\"https://colab.research.google.com/github/Dalton-222/DataEngineer-class/blob/main/Demostracao4.ipynb\" target=\"_parent\"><img src=\"https://colab.research.google.com/assets/colab-badge.svg\" alt=\"Open In Colab\"/></a>"
      ]
    },
    {
      "cell_type": "code",
      "execution_count": 2,
      "metadata": {
        "colab": {
          "base_uri": "https://localhost:8080/"
        },
        "id": "PZ7AUzdU316Q",
        "outputId": "a276509a-9bb7-49dd-fba8-4455c20e2680"
      },
      "outputs": [
        {
          "output_type": "stream",
          "name": "stdout",
          "text": [
            "Job Concluido com sucesso!\n"
          ]
        }
      ],
      "source": [
        "import csv;\n",
        "import sqlite3;\n",
        "\n",
        "#Funcao para remover o ponto nos dados da ultima coluna\n",
        "def remove_ponto(valor):\n",
        "  return int(valor.replace('.', ''))\n",
        "\n",
        "#Abre o arquivo CSV com os dados de producao de alimentos\n",
        "with open('producao_alimentos.csv', 'r') as file:\n",
        "  #cria um leitor de csv para ler o arquivo\n",
        "  reader = csv.reader(file)\n",
        "\n",
        "  #pula a primeira linha, que contem os cabeçalhos e colunas\n",
        "  next(reader)\n",
        "\n",
        "  #conecta ao banco de dados\n",
        "  conn = sqlite3.connect('dsadb.db')\n",
        "\n",
        "  #Deleta a tabela existente, se houver\n",
        "  conn.execute('DROP TABLE IF EXISTS producao')\n",
        "\n",
        "  #cria uma tabela para armazenar os dados de produção de alimentos com a nova coluna 'marge_lucro'\n",
        "  conn.execute('''\n",
        "            CREATE TABLE IF NOT EXISTS producao(\n",
        "              produto TEXT,\n",
        "              quantidade INTEGER,\n",
        "              preco_medio REAL,\n",
        "              receita_total REAL,\n",
        "              margem_lucro REAL\n",
        "            )\n",
        "  ''')\n",
        "\n",
        "  #Insere cada linha do arquivo na tabela do banco de dados\n",
        "  for row in reader:\n",
        "    if int(row[1]) > 10:\n",
        "\n",
        "      #Remove o ponto do valor da última coluna e converte para inteiro\n",
        "      row[3] = remove_ponto(row[3])\n",
        "\n",
        "      #Calcula a margem de lucro bruta com base no valor medio de venda e na receita total\n",
        "      margem_lucro = round((row[3] / float(row[1]) - float(row[2])), 2)\n",
        "\n",
        "      #Insere o Registro no banco de dados\n",
        "      conn.execute('''INSERT INTO producao\n",
        "                (produto, quantidade, preco_medio, receita_total, margem_lucro)\n",
        "                VALUES (?, ?, ?, ?, ?)''', (row[0], row[1], row[2], row[3], margem_lucro))\n",
        "\n",
        "  conn.commit()\n",
        "  conn.close()\n",
        "\n",
        "print(\"Job Concluido com sucesso!\")"
      ]
    }
  ]
}