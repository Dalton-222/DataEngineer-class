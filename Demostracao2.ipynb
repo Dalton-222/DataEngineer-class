{
  "nbformat": 4,
  "nbformat_minor": 0,
  "metadata": {
    "colab": {
      "provenance": [],
      "authorship_tag": "ABX9TyNZpFgA8Vajm6yUiKTyAjZV",
      "include_colab_link": true
    },
    "kernelspec": {
      "name": "python3",
      "display_name": "Python 3"
    },
    "language_info": {
      "name": "python"
    }
  },
  "cells": [
    {
      "cell_type": "markdown",
      "metadata": {
        "id": "view-in-github",
        "colab_type": "text"
      },
      "source": [
        "<a href=\"https://colab.research.google.com/github/Dalton-222/DataEngineer-class/blob/main/Demostracao2.ipynb\" target=\"_parent\"><img src=\"https://colab.research.google.com/assets/colab-badge.svg\" alt=\"Open In Colab\"/></a>"
      ]
    },
    {
      "cell_type": "code",
      "execution_count": 1,
      "metadata": {
        "colab": {
          "base_uri": "https://localhost:8080/"
        },
        "id": "v3YWIbbdvclN",
        "outputId": "3c8c25c4-2790-4d58-e68e-955e99191550"
      },
      "outputs": [
        {
          "output_type": "stream",
          "name": "stdout",
          "text": [
            "Job Concluido com sucesso!\n"
          ]
        }
      ],
      "source": [
        "import csv;\n",
        "import sqlite3;\n",
        "\n",
        "#Funcao para remover o ponto nos dados da ultima coluna\n",
        "def remove_ponto(valor):\n",
        "  return int(valor.replace('.', ''))\n",
        "\n",
        "#Abre o arquivo CSV com os dados de producao de alimentos\n",
        "with open('producao_alimentos.csv', 'r') as file:\n",
        "  #cria um leitor de csv para ler o arquivo\n",
        "  reader = csv.reader(file)\n",
        "\n",
        "  #pula a primeira linha, que contem os cabeçalhos e colunas\n",
        "  next(reader)\n",
        "\n",
        "  #conecta ao banco de dados\n",
        "  conn = sqlite3.connect('dsadb.db')\n",
        "\n",
        "  #Deleta a tabela existente, se houver\n",
        "  conn.execute('DROP TABLE IF EXISTS producao')\n",
        "\n",
        "  #cria uma tabela para armazenar os dados de produção de alimentos\n",
        "  conn.execute('''\n",
        "            CREATE TABLE IF NOT EXISTS producao(\n",
        "              produto TEXT,\n",
        "              quantidade INTEGER,\n",
        "              preco_medio REAL,\n",
        "              receita_total REAL\n",
        "            )\n",
        "  ''')\n",
        "\n",
        "  #Insere cada linha do arquivo na tabela do banco de dados\n",
        "  for row in reader:\n",
        "    if int(row[1]) > 10:\n",
        "\n",
        "      #Remove o ponto do valor da última coluna e converte para inteiro\n",
        "      row[3] = remove_ponto(row[3])\n",
        "\n",
        "      #Insere o Registro no banco de dados\n",
        "      conn.execute('''INSERT INTO producao\n",
        "                (produto, quantidade, preco_medio, receita_total)\n",
        "                VALUES (?, ?, ?, ?)''', row)\n",
        "\n",
        "  conn.commit()\n",
        "  conn.close()\n",
        "\n",
        "print(\"Job Concluido com sucesso!\")"
      ]
    }
  ]
}